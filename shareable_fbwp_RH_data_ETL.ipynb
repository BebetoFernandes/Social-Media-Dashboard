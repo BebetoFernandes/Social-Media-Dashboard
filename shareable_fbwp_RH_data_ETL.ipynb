{
  "cells": [
    {
      "cell_type": "markdown",
      "metadata": {
        "id": "view-in-github",
        "colab_type": "text"
      },
      "source": [
        "<a href=\"https://colab.research.google.com/github/BebetoFernandes/Social-Media-Dashboard/blob/main/shareable_fbwp_RH_data_ETL.ipynb\" target=\"_parent\"><img src=\"https://colab.research.google.com/assets/colab-badge.svg\" alt=\"Open In Colab\"/></a>"
      ]
    },
    {
      "cell_type": "markdown",
      "source": [
        "## Facebook Workplace Download Data"
      ],
      "metadata": {
        "application/vnd.databricks.v1+cell": {
          "title": "",
          "showTitle": false,
          "inputWidgets": {},
          "nuid": "41621fda-ae4b-4c0d-b81b-560529d5291f"
        },
        "id": "YjR7Qm33Wo1w"
      }
    },
    {
      "cell_type": "code",
      "source": [
        "#%run /DATA_SCIENCE/GERAL/salvar_base"
      ],
      "metadata": {
        "application/vnd.databricks.v1+cell": {
          "title": "",
          "showTitle": false,
          "inputWidgets": {},
          "nuid": "5f93d8d2-5868-4766-8bac-fdd93ec5a15b"
        },
        "id": "0KD1vyqFWo2I",
        "outputId": "4d8f3591-5e39-461d-c317-3292718db49d"
      },
      "outputs": [
        {
          "output_type": "display_data",
          "metadata": {
            "application/vnd.databricks.v1+output": {
              "datasetInfos": [],
              "data": "<div class=\"ansiout\"></div>",
              "removedWidgets": [],
              "addedWidgets": {},
              "metadata": {},
              "type": "html",
              "arguments": {}
            }
          },
          "data": {
            "text/html": [
              "<style scoped>\n  .ansiout {\n    display: block;\n    unicode-bidi: embed;\n    white-space: pre-wrap;\n    word-wrap: break-word;\n    word-break: break-all;\n    font-family: \"Source Code Pro\", \"Menlo\", monospace;;\n    font-size: 13px;\n    color: #555;\n    margin-left: 4px;\n    line-height: 19px;\n  }\n</style>\n<div class=\"ansiout\"></div>"
            ]
          }
        }
      ],
      "execution_count": null
    },
    {
      "cell_type": "code",
      "source": [
        "# Importing Libraries\n",
        "\n",
        "import pandas as pd\n",
        "import requests\n",
        "import numpy as np\n",
        "from datetime import datetime\n",
        "from ast import literal_eval\n",
        "import time\n",
        "import re\n",
        "import unidecode"
      ],
      "metadata": {
        "application/vnd.databricks.v1+cell": {
          "title": "Libraries",
          "showTitle": true,
          "inputWidgets": {},
          "nuid": "77ee9a11-b8c4-4e90-a6d0-0e8987cfaae4"
        },
        "id": "S7xJ5VhAWo2U",
        "outputId": "17e7aeb0-a033-47c0-8bc0-6336909bbc2e"
      },
      "outputs": [
        {
          "output_type": "display_data",
          "metadata": {
            "application/vnd.databricks.v1+output": {
              "datasetInfos": [],
              "data": "<div class=\"ansiout\"></div>",
              "removedWidgets": [],
              "addedWidgets": {},
              "metadata": {},
              "type": "html",
              "arguments": {}
            }
          },
          "data": {
            "text/html": [
              "<style scoped>\n  .ansiout {\n    display: block;\n    unicode-bidi: embed;\n    white-space: pre-wrap;\n    word-wrap: break-word;\n    word-break: break-all;\n    font-family: \"Source Code Pro\", \"Menlo\", monospace;;\n    font-size: 13px;\n    color: #555;\n    margin-left: 4px;\n    line-height: 19px;\n  }\n</style>\n<div class=\"ansiout\"></div>"
            ]
          }
        }
      ],
      "execution_count": null
    },
    {
      "cell_type": "code",
      "source": [
        "# Removing token to be able share notebook\n",
        "\n",
        "#token = \"????\""
      ],
      "metadata": {
        "application/vnd.databricks.v1+cell": {
          "title": "Token",
          "showTitle": true,
          "inputWidgets": {},
          "nuid": "699dac2b-c268-491b-b38c-e2bc299d0697"
        },
        "id": "0S5gZmH4Wo2X",
        "outputId": "4f20b64f-0c73-4604-83b1-668fc1c3c905"
      },
      "outputs": [
        {
          "output_type": "display_data",
          "metadata": {
            "application/vnd.databricks.v1+output": {
              "datasetInfos": [],
              "data": "<div class=\"ansiout\"></div>",
              "removedWidgets": [],
              "addedWidgets": {},
              "metadata": {},
              "type": "html",
              "arguments": {}
            }
          },
          "data": {
            "text/html": [
              "<style scoped>\n  .ansiout {\n    display: block;\n    unicode-bidi: embed;\n    white-space: pre-wrap;\n    word-wrap: break-word;\n    word-break: break-all;\n    font-family: \"Source Code Pro\", \"Menlo\", monospace;;\n    font-size: 13px;\n    color: #555;\n    margin-left: 4px;\n    line-height: 19px;\n  }\n</style>\n<div class=\"ansiout\"></div>"
            ]
          }
        }
      ],
      "execution_count": null
    },
    {
      "cell_type": "markdown",
      "source": [
        "## Download Members Data"
      ],
      "metadata": {
        "application/vnd.databricks.v1+cell": {
          "title": "",
          "showTitle": false,
          "inputWidgets": {},
          "nuid": "0a68add5-6c9a-4f5d-ada2-2ec94963d1c9"
        },
        "id": "tW-8CPM5Wo2a"
      }
    },
    {
      "cell_type": "code",
      "source": [
        "# Setting URL to start getting the data\n",
        "\n",
        "url = f'https://graph.facebook.com/community/members?fields=name,email,skills,languages,title,managers,account_claim_time&access_token={token}'"
      ],
      "metadata": {
        "application/vnd.databricks.v1+cell": {
          "title": "URL",
          "showTitle": true,
          "inputWidgets": {},
          "nuid": "f6814db0-356c-4846-9803-fa84d6a65cdc"
        },
        "id": "iQv9-wv4Wo2d",
        "outputId": "f8806be3-17ab-4252-b20d-df2b369df728"
      },
      "outputs": [
        {
          "output_type": "display_data",
          "metadata": {
            "application/vnd.databricks.v1+output": {
              "datasetInfos": [],
              "data": "<div class=\"ansiout\"></div>",
              "removedWidgets": [],
              "addedWidgets": {},
              "metadata": {},
              "type": "html",
              "arguments": {}
            }
          },
          "data": {
            "text/html": [
              "<style scoped>\n  .ansiout {\n    display: block;\n    unicode-bidi: embed;\n    white-space: pre-wrap;\n    word-wrap: break-word;\n    word-break: break-all;\n    font-family: \"Source Code Pro\", \"Menlo\", monospace;;\n    font-size: 13px;\n    color: #555;\n    margin-left: 4px;\n    line-height: 19px;\n  }\n</style>\n<div class=\"ansiout\"></div>"
            ]
          }
        }
      ],
      "execution_count": null
    },
    {
      "cell_type": "code",
      "source": [
        "# Creating function to return dataframe from API data\n",
        "\n",
        "def retorna_usuarios(url):\n",
        "  lista_users = []\n",
        "  link = url\n",
        "  while True:\n",
        "    result = requests.get(url)\n",
        "    result = result.json()\n",
        "    lista_users += result['data']\n",
        "    try:\n",
        "      url = result['paging']['next']\n",
        "    except:\n",
        "      break\n",
        "  df = pd.DataFrame(lista_users)\n",
        "  return df"
      ],
      "metadata": {
        "application/vnd.databricks.v1+cell": {
          "title": "Function to Return Users Data",
          "showTitle": true,
          "inputWidgets": {},
          "nuid": "4bac395f-a9b2-4674-bb8b-69799c6bd5e9"
        },
        "id": "nPIgc9L3Wo2g",
        "outputId": "549495d0-6d89-40e6-9a97-1dc1686ad4c2"
      },
      "outputs": [
        {
          "output_type": "display_data",
          "metadata": {
            "application/vnd.databricks.v1+output": {
              "datasetInfos": [],
              "data": "<div class=\"ansiout\"></div>",
              "removedWidgets": [],
              "addedWidgets": {},
              "metadata": {},
              "type": "html",
              "arguments": {}
            }
          },
          "data": {
            "text/html": [
              "<style scoped>\n  .ansiout {\n    display: block;\n    unicode-bidi: embed;\n    white-space: pre-wrap;\n    word-wrap: break-word;\n    word-break: break-all;\n    font-family: \"Source Code Pro\", \"Menlo\", monospace;;\n    font-size: 13px;\n    color: #555;\n    margin-left: 4px;\n    line-height: 19px;\n  }\n</style>\n<div class=\"ansiout\"></div>"
            ]
          }
        }
      ],
      "execution_count": null
    },
    {
      "cell_type": "code",
      "source": [
        "# Transforming data fields\n",
        "\n",
        "df_users = retorna_usuarios(url=url)\n",
        "df_users.sort_values('id', ignore_index = True, inplace = True)\n",
        "#df_users['department'] = df_users['department'].apply(lambda x: 'Not Filled' if str(x)=='nan' else x).str.title()\n",
        "#df_users['region'] = df_users['department'].apply(lambda x: x if x[0:3] == 'Res' else ( x if x[0:3] == 'Alo' else ( x if x[0:3] == 'Chi' else 'Sem Região Definida')))\n",
        "df_users['title'] = df_users['title'].str.replace(r'[\\b\\d+\\b]+', ' ').str.replace(' (A)','').str.replace('Suporter', 'Suporte').str.replace(' ESP', '').str.replace(' J', '').str.replace(' Es', '').str.replace(' JR', '').str.replace(' PL', '').str.replace(' SR', '').str.replace(' - I', '').str.replace(' - II', '').str.replace(' - III', '').str.title()\n",
        "#df_users['picture'] = df_users['picture'].apply(lambda x:x['data']['is_silhouette'])\n",
        "#df_users['about'] = df_users['about'].apply(lambda x: 'Not Filled' if str(x)=='nan' else x)\n",
        "df_users['status'] = df_users['account_claim_time'].apply(lambda x: 'conta ativada' if pd.isnull(x) == False else 'conta não ativada')\n",
        "df_users.head()"
      ],
      "metadata": {
        "application/vnd.databricks.v1+cell": {
          "title": "Adding Activity to Members DataBase",
          "showTitle": true,
          "inputWidgets": {},
          "nuid": "ce45531a-7c7b-4401-9c69-eb363acabdbd"
        },
        "id": "bYZlBLh5Wo2k"
      },
      "outputs": [],
      "execution_count": null
    },
    {
      "cell_type": "code",
      "source": [
        "# Getting data from json field\n",
        "\n",
        "list_manager = []\n",
        "for x, y in enumerate(list(df_users['managers'])):\n",
        "      try:\n",
        "        list_manager.append(df_users['managers'][x]['data'][0]['name'])\n",
        "      except:\n",
        "        list_manager.append('unknown')\n",
        "  \n",
        "df_users['managers'] = list_manager\n",
        "df_users.head()"
      ],
      "metadata": {
        "application/vnd.databricks.v1+cell": {
          "title": "Adding Manager Info",
          "showTitle": true,
          "inputWidgets": {},
          "nuid": "1e541437-3f6e-40d4-9933-f263a3286c24"
        },
        "id": "glmzakNCWo2q"
      },
      "outputs": [],
      "execution_count": null
    },
    {
      "cell_type": "code",
      "source": [
        "# Getting data from json field\n",
        "\n",
        "list_skills = []\n",
        "for x in list(df_users['skills']):\n",
        "  new_list = []\n",
        "  if pd.isnull(x) == False:\n",
        "    for y in range(len(x['data'])):\n",
        "      new_list.append(x['data'][y]['name'])\n",
        "    list_skills.append(new_list)\n",
        "  else:\n",
        "    list_skills.append(np.nan)\n",
        "\n",
        "df_users['skill_list'] = list_skills"
      ],
      "metadata": {
        "application/vnd.databricks.v1+cell": {
          "title": "Adding Skills Info",
          "showTitle": true,
          "inputWidgets": {},
          "nuid": "193cf294-1a2f-4438-b81f-05eacac6bba4"
        },
        "id": "FLFdHjkYWo2w",
        "outputId": "842d88dd-f4c6-45d7-83af-c61d6ba670b8"
      },
      "outputs": [
        {
          "output_type": "display_data",
          "metadata": {
            "application/vnd.databricks.v1+output": {
              "datasetInfos": [],
              "data": "<div class=\"ansiout\"></div>",
              "removedWidgets": [],
              "addedWidgets": {},
              "metadata": {},
              "type": "html",
              "arguments": {}
            }
          },
          "data": {
            "text/html": [
              "<style scoped>\n  .ansiout {\n    display: block;\n    unicode-bidi: embed;\n    white-space: pre-wrap;\n    word-wrap: break-word;\n    word-break: break-all;\n    font-family: \"Source Code Pro\", \"Menlo\", monospace;;\n    font-size: 13px;\n    color: #555;\n    margin-left: 4px;\n    line-height: 19px;\n  }\n</style>\n<div class=\"ansiout\"></div>"
            ]
          }
        }
      ],
      "execution_count": null
    },
    {
      "cell_type": "code",
      "source": [
        "# Selecting desired fields\n",
        "df_fbwp_data = df_users[['name','email','title','managers','skill_list','status']]"
      ],
      "metadata": {
        "application/vnd.databricks.v1+cell": {
          "title": "",
          "showTitle": false,
          "inputWidgets": {},
          "nuid": "4f9d0b47-86e6-42c3-b3ea-34581e9819a0"
        },
        "id": "LMGZ-krGWo23",
        "outputId": "d6d932c8-1fca-4f59-fe13-13e2f5034c4d"
      },
      "outputs": [
        {
          "output_type": "display_data",
          "metadata": {
            "application/vnd.databricks.v1+output": {
              "datasetInfos": [],
              "data": "<div class=\"ansiout\"></div>",
              "removedWidgets": [],
              "addedWidgets": {},
              "metadata": {},
              "type": "html",
              "arguments": {}
            }
          },
          "data": {
            "text/html": [
              "<style scoped>\n  .ansiout {\n    display: block;\n    unicode-bidi: embed;\n    white-space: pre-wrap;\n    word-wrap: break-word;\n    word-break: break-all;\n    font-family: \"Source Code Pro\", \"Menlo\", monospace;;\n    font-size: 13px;\n    color: #555;\n    margin-left: 4px;\n    line-height: 19px;\n  }\n</style>\n<div class=\"ansiout\"></div>"
            ]
          }
        }
      ],
      "execution_count": null
    },
    {
      "cell_type": "code",
      "source": [
        "# Loading to datalake\n",
        "df_fbwp_data.to_excel('/dbfs/mnt/lake/RAW/DATA_SCIENCE/FACEBOOK_WORKPLACE/RAW_DATA/rh_data.xls', index=False)"
      ],
      "metadata": {
        "application/vnd.databricks.v1+cell": {
          "title": "",
          "showTitle": false,
          "inputWidgets": {},
          "nuid": "7bf1333a-b54f-4ff7-a68f-c36e1fb3415f"
        },
        "id": "XRW7GwYlWo25",
        "outputId": "4f741a06-96d6-47f4-af6c-15377f33942a"
      },
      "outputs": [
        {
          "output_type": "display_data",
          "metadata": {
            "application/vnd.databricks.v1+output": {
              "datasetInfos": [],
              "data": "<div class=\"ansiout\">/local_disk0/tmp/1624999421643-0/PythonShell.py:1: FutureWarning: As the xlwt package is no longer maintained, the xlwt engine will be removed in a future version of pandas. This is the only engine in pandas that supports writing in the xls format. Install openpyxl and write to an xlsx file instead. You can set the option io.excel.xls.writer to &#39;xlwt&#39; to silence this warning. While this option is deprecated and will also raise a warning, it can be globally set and the warning suppressed.\n  \n</div>",
              "removedWidgets": [],
              "addedWidgets": {},
              "metadata": {},
              "type": "html",
              "arguments": {}
            }
          },
          "data": {
            "text/html": [
              "<style scoped>\n  .ansiout {\n    display: block;\n    unicode-bidi: embed;\n    white-space: pre-wrap;\n    word-wrap: break-word;\n    word-break: break-all;\n    font-family: \"Source Code Pro\", \"Menlo\", monospace;;\n    font-size: 13px;\n    color: #555;\n    margin-left: 4px;\n    line-height: 19px;\n  }\n</style>\n<div class=\"ansiout\">/local_disk0/tmp/1624999421643-0/PythonShell.py:1: FutureWarning: As the xlwt package is no longer maintained, the xlwt engine will be removed in a future version of pandas. This is the only engine in pandas that supports writing in the xls format. Install openpyxl and write to an xlsx file instead. You can set the option io.excel.xls.writer to &#39;xlwt&#39; to silence this warning. While this option is deprecated and will also raise a warning, it can be globally set and the warning suppressed.\n  \n</div>"
            ]
          }
        }
      ],
      "execution_count": null
    }
  ],
  "metadata": {
    "application/vnd.databricks.v1+notebook": {
      "notebookName": "fbwp_RH_data",
      "dashboards": [],
      "notebookMetadata": {
        "pythonIndentUnit": 2
      },
      "language": "python",
      "widgets": {},
      "notebookOrigID": 3944771774026642
    },
    "colab": {
      "name": "shareable_fbwp_RH_data_ETL.ipynb",
      "provenance": [],
      "include_colab_link": true
    }
  },
  "nbformat": 4,
  "nbformat_minor": 0
}